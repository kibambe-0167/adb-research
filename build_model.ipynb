{
 "cells": [
  {
   "cell_type": "code",
   "execution_count": 2,
   "metadata": {},
   "outputs": [],
   "source": [
    "import numpy as np\n",
    "import keras"
   ]
  },
  {
   "attachments": {},
   "cell_type": "markdown",
   "metadata": {},
   "source": [
    "### load numpy data"
   ]
  },
  {
   "cell_type": "code",
   "execution_count": 46,
   "metadata": {},
   "outputs": [
    {
     "data": {
      "text/plain": [
       "((20000, 32, 32, 3), (19999,))"
      ]
     },
     "execution_count": 46,
     "metadata": {},
     "output_type": "execute_result"
    }
   ],
   "source": [
    "# load first datasets\n",
    "cifer10 = np.load(\"./loaded_data/cifer10_x_train.npy\")\n",
    "# create labels\n",
    "cifer10_labels = np.zeros(cifer10.shape[0]-1, dtype=int )\n",
    "cifer10.shape, cifer10_labels.shape"
   ]
  },
  {
   "cell_type": "code",
   "execution_count": 14,
   "metadata": {},
   "outputs": [
    {
     "data": {
      "text/plain": [
       "(9999, 32, 32, 3)"
      ]
     },
     "execution_count": 14,
     "metadata": {},
     "output_type": "execute_result"
    }
   ],
   "source": [
    "# load first faces datasets\n",
    "faces1 = np.load(\"./loaded_data/first_10K.npy\")\n",
    "faces1.shape"
   ]
  },
  {
   "cell_type": "code",
   "execution_count": 15,
   "metadata": {},
   "outputs": [
    {
     "data": {
      "text/plain": [
       "(10000, 32, 32, 3)"
      ]
     },
     "execution_count": 15,
     "metadata": {},
     "output_type": "execute_result"
    }
   ],
   "source": [
    "# load second faces datasets\n",
    "faces2 = np.load(\"./loaded_data/second_10K.npy\")\n",
    "faces2.shape"
   ]
  },
  {
   "cell_type": "code",
   "execution_count": 42,
   "metadata": {},
   "outputs": [
    {
     "name": "stdout",
     "output_type": "stream",
     "text": [
      "(19999, 32, 32, 3) (19999,)\n"
     ]
    }
   ],
   "source": [
    "# concatenate arrays, and create calss labels.\n",
    "faces = np.concatenate((faces1, faces2), axis=0)\n",
    "faces_label = np.ones(faces.shape[0], dtype=int)\n",
    "print(faces.shape, faces_label.shape)"
   ]
  },
  {
   "attachments": {},
   "cell_type": "markdown",
   "metadata": {},
   "source": [
    "### make train and evaluate data"
   ]
  },
  {
   "cell_type": "code",
   "execution_count": 44,
   "metadata": {},
   "outputs": [
    {
     "name": "stdout",
     "output_type": "stream",
     "text": [
      "Data:\n",
      "(15000, 32, 32, 3),\n",
      "(2499, 32, 32, 3),\n",
      "(2500, 32, 32, 3)\n",
      "\n",
      "Labels:\n",
      "(15000,),\n",
      "(2499,),\n",
      "(2500,)\n"
     ]
    }
   ],
   "source": [
    "# faces\n",
    "faces_train_data = faces[: 15000]; faces_label_train = faces_label[:15000]\n",
    "faces_test_data = faces[15000: 17500] ; faces_label_test = faces_label[15000: 17500]\n",
    "faces_eval_data = faces[17500: ] ; faces_label_eval = faces_label[17500: ]\n",
    "print( f\"Data:\\n{faces_train_data.shape},\\n{faces_eval_data.shape},\\n{faces_test_data.shape}\" )\n",
    "print( f\"\\nLabels:\\n{faces_label_train.shape},\\n{faces_label_eval.shape},\\n{faces_label_test.shape}\" )"
   ]
  },
  {
   "cell_type": "code",
   "execution_count": 63,
   "metadata": {},
   "outputs": [
    {
     "name": "stdout",
     "output_type": "stream",
     "text": [
      "Data:\n",
      "(15000, 32, 32, 3),\n",
      "(2500, 32, 32, 3),\n",
      "(2500, 32, 32, 3)\n",
      "\n",
      "Labels:\n",
      "(15000,),\n",
      "(2500,),\n",
      "(2499,)\n"
     ]
    }
   ],
   "source": [
    "# random images\n",
    "cifer10_train_data = cifer10[: 15000]; cifer10_label_train = cifer10_labels[:15000]\n",
    "cifer10_test_data = cifer10[15000: 17500] ; cifer10_label_test = cifer10_labels[15000: 17500]\n",
    "cifer10_eval_data = cifer10[17500: ] ; cifer10_label_eval = cifer10_labels[17500: ]\n",
    "print( f\"Data:\\n{cifer10_train_data.shape},\\n{cifer10_test_data.shape},\\n{cifer10_eval_data.shape}\" )\n",
    "print( f\"\\nLabels:\\n{cifer10_label_train.shape},\\n{cifer10_label_test.shape},\\n{cifer10_label_eval.shape}\" )"
   ]
  },
  {
   "cell_type": "code",
   "execution_count": 68,
   "metadata": {},
   "outputs": [],
   "source": [
    "# normalise data\n",
    "cifer_td = cifer10_train_data / 255.0\n",
    "cifer_ed = cifer10_eval_data / 255.0\n",
    "cifer_tsd = cifer10_test_data / 255.0"
   ]
  },
  {
   "cell_type": "code",
   "execution_count": 74,
   "metadata": {},
   "outputs": [
    {
     "data": {
      "text/plain": [
       "((30000, 32, 32, 3), (30000,))"
      ]
     },
     "execution_count": 74,
     "metadata": {},
     "output_type": "execute_result"
    }
   ],
   "source": [
    "# concatenate train data\n",
    "x_train = np.concatenate((faces_train_data, cifer_td), axis=0)\n",
    "y_train = np.concatenate((faces_label_train, cifer10_label_train ), axis=0)\n",
    "x_train.shape, y_train.shape"
   ]
  },
  {
   "cell_type": "code",
   "execution_count": 75,
   "metadata": {},
   "outputs": [
    {
     "data": {
      "text/plain": [
       "((5000, 32, 32, 3), (5000,))"
      ]
     },
     "execution_count": 75,
     "metadata": {},
     "output_type": "execute_result"
    }
   ],
   "source": [
    "# concatenate test data\n",
    "x_test = np.concatenate(( faces_test_data, cifer_tsd ), axis=0)\n",
    "y_test = np.concatenate(( faces_label_test, cifer10_label_test ), axis=0 )\n",
    "x_test.shape, y_test.shape"
   ]
  },
  {
   "cell_type": "code",
   "execution_count": 76,
   "metadata": {},
   "outputs": [
    {
     "data": {
      "text/plain": [
       "((4999, 32, 32, 3), (4998,))"
      ]
     },
     "execution_count": 76,
     "metadata": {},
     "output_type": "execute_result"
    }
   ],
   "source": [
    "# concatenate test data\n",
    "x_eval = np.concatenate((faces_eval_data, cifer10_eval_data ), axis=0)\n",
    "y_eval = np.concatenate((faces_label_eval, cifer10_label_eval ), axis=0)\n",
    "x_eval.shape, y_eval.shape"
   ]
  },
  {
   "cell_type": "code",
   "execution_count": null,
   "metadata": {},
   "outputs": [],
   "source": []
  }
 ],
 "metadata": {
  "kernelspec": {
   "display_name": "env-adb",
   "language": "python",
   "name": "python3"
  },
  "language_info": {
   "codemirror_mode": {
    "name": "ipython",
    "version": 3
   },
   "file_extension": ".py",
   "mimetype": "text/x-python",
   "name": "python",
   "nbconvert_exporter": "python",
   "pygments_lexer": "ipython3",
   "version": "3.10.7"
  },
  "orig_nbformat": 4
 },
 "nbformat": 4,
 "nbformat_minor": 2
}

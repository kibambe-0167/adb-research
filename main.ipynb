{
 "cells": [
  {
   "cell_type": "code",
   "execution_count": 2,
   "metadata": {},
   "outputs": [],
   "source": [
    "import cv2\n",
    "import numpy as np"
   ]
  },
  {
   "cell_type": "code",
   "execution_count": 3,
   "metadata": {},
   "outputs": [],
   "source": [
    "def generate_face_feature_filters():\n",
    "    filters = []\n",
    "    # Edge detection filters\n",
    "    orientations = [0, 45, 90, 135]\n",
    "    scales = [0.5, 1.0, 1.5]\n",
    "    for theta in orientations:\n",
    "        theta *= np.pi / 180  # used to convert the angle from degrees to radians.\n",
    "        for scale in scales:\n",
    "            kernel = cv2.getGaborKernel((400, 400), scale, theta, 10.0, 0.5, 0.3, ktype=cv2.CV_32F)\n",
    "            filters.append(kernel)\n",
    "\n",
    "    # Texture filters\n",
    "    orientations = [0, 45, 90, 135]\n",
    "    scales = [1.0, 1.5, 2.0]\n",
    "    for theta in orientations:\n",
    "        theta *= np.pi / 4\n",
    "        for scale in scales:\n",
    "            kernel = cv2.getGaborKernel((400, 400), scale, theta, 10.0, 0.5, 0, ktype=cv2.CV_32F)\n",
    "            filters.append(kernel)\n",
    "\n",
    "    # Eye detection filters\n",
    "    orientations = [0, 45, 90, 135]\n",
    "    scales = [0.5, 1.0, 1.5]\n",
    "    for theta in orientations:\n",
    "        theta *= np.pi / 120\n",
    "        for scale in scales:\n",
    "            kernel = cv2.getGaborKernel((200, 200), scale, theta, 10.0, 0.5, 1, ktype=cv2.CV_32F)\n",
    "            filters.append(kernel)\n",
    "\n",
    "    # # Nose detection filters\n",
    "    orientations = [0, 45, 90, 135]\n",
    "    scales = [0.5, 1.0, 1.5]\n",
    "    for theta in orientations:\n",
    "        theta *= np.pi / 180\n",
    "        for scale in scales:\n",
    "            kernel = cv2.getGaborKernel((31, 31), scale, theta, 10.0, 0.5, 0.2, ktype=cv2.CV_32F)\n",
    "            filters.append(kernel)\n",
    "    return filters"
   ]
  },
  {
   "cell_type": "code",
   "execution_count": 4,
   "metadata": {},
   "outputs": [],
   "source": [
    "# image_path = \"Subset/000051.jpg\" #add image path\n",
    "image_path = \"./PCA_FE/Subset/000001.jpg\""
   ]
  },
  {
   "cell_type": "code",
   "execution_count": 8,
   "metadata": {},
   "outputs": [],
   "source": [
    "# Load the input image\n",
    "image = cv2.imread(image_path, cv2.IMREAD_GRAYSCALE)\n",
    "# print(image.shape)\n",
    "# image\n",
    "cv2.imshow('Image', image)\n",
    "# cv2.waitKey(0)\n",
    "# cv2.destroyAllWindows()"
   ]
  },
  {
   "cell_type": "code",
   "execution_count": 9,
   "metadata": {},
   "outputs": [
    {
     "data": {
      "text/plain": [
       "(401, 401)"
      ]
     },
     "execution_count": 9,
     "metadata": {},
     "output_type": "execute_result"
    }
   ],
   "source": [
    "# Generate the face feature filters\n",
    "face_filters = generate_face_feature_filters()\n",
    "face_filters[0].shape"
   ]
  },
  {
   "cell_type": "code",
   "execution_count": 10,
   "metadata": {},
   "outputs": [
    {
     "name": "stdout",
     "output_type": "stream",
     "text": [
      "48\n"
     ]
    },
    {
     "data": {
      "text/plain": [
       "array([[255, 255, 255, ..., 255, 255, 255],\n",
       "       [255, 255, 255, ..., 255, 255, 255],\n",
       "       [255, 255, 255, ..., 255, 255, 255],\n",
       "       ...,\n",
       "       [255, 247, 255, ..., 193, 191, 191],\n",
       "       [255, 255, 255, ..., 196, 199, 200],\n",
       "       [255, 255, 255, ..., 195, 199, 200]], dtype=uint8)"
      ]
     },
     "execution_count": 10,
     "metadata": {},
     "output_type": "execute_result"
    },
    {
     "ename": "",
     "evalue": "",
     "output_type": "error",
     "traceback": [
      "\u001b[1;31mThe Kernel crashed while executing code in the the current cell or a previous cell. Please review the code in the cell(s) to identify a possible cause of the failure. Click <a href='https://aka.ms/vscodeJupyterKernelCrash'>here</a> for more info. View Jupyter <a href='command:jupyter.viewOutput'>log</a> for further details."
     ]
    }
   ],
   "source": [
    "# Apply the face feature filters to the image\n",
    "filtered_images = [] #storage mechanism\n",
    "for kernel in face_filters:\n",
    "    filtered_image = cv2.filter2D(image, cv2.CV_8UC3, kernel)\n",
    "    filtered_images.append(filtered_image)\n",
    "print(len(filtered_images))\n",
    "filtered_images[0]"
   ]
  },
  {
   "cell_type": "code",
   "execution_count": 8,
   "metadata": {},
   "outputs": [],
   "source": [
    "# Display the filtered images\n",
    "for i, filtered_image in enumerate(filtered_images):\n",
    "    cv2.imshow(\"Filter {}\".format(i), filtered_image)"
   ]
  },
  {
   "cell_type": "code",
   "execution_count": 1,
   "metadata": {},
   "outputs": [
    {
     "ename": "NameError",
     "evalue": "name 'cv2' is not defined",
     "output_type": "error",
     "traceback": [
      "\u001b[0;31m---------------------------------------------------------------------------\u001b[0m",
      "\u001b[0;31mNameError\u001b[0m                                 Traceback (most recent call last)",
      "Cell \u001b[0;32mIn[1], line 1\u001b[0m\n\u001b[0;32m----> 1\u001b[0m cv2\u001b[39m.\u001b[39mwaitKey(\u001b[39m0\u001b[39m)\n\u001b[1;32m      2\u001b[0m cv2\u001b[39m.\u001b[39mdestroyAllWindows()\n",
      "\u001b[0;31mNameError\u001b[0m: name 'cv2' is not defined"
     ]
    }
   ],
   "source": [
    "cv2.waitKey(0)\n",
    "cv2.destroyAllWindows()"
   ]
  }
 ],
 "metadata": {
  "kernelspec": {
   "display_name": "env-adb",
   "language": "python",
   "name": "python3"
  },
  "language_info": {
   "codemirror_mode": {
    "name": "ipython",
    "version": 3
   },
   "file_extension": ".py",
   "mimetype": "text/x-python",
   "name": "python",
   "nbconvert_exporter": "python",
   "pygments_lexer": "ipython3",
   "version": "3.10.7"
  },
  "orig_nbformat": 4
 },
 "nbformat": 4,
 "nbformat_minor": 2
}
